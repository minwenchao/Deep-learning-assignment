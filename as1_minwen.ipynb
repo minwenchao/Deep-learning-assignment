{
 "cells": [
  {
   "cell_type": "markdown",
   "metadata": {},
   "source": [
    "# Assignment 1 - Statistical learning and deep learning\n",
    "- name : 趙敏妏\n",
    "- student ID : R09323025"
   ]
  },
  {
   "cell_type": "markdown",
   "metadata": {},
   "source": [
    "## Question 1\n",
    "### Q1-1. Create your myknn_regressor based on the skeleton."
   ]
  },
  {
   "cell_type": "code",
   "execution_count": 12,
   "metadata": {},
   "outputs": [],
   "source": [
    "import pickle\n",
    "from sklearn import preprocessing\n",
    "import numpy as np\n",
    "\n",
    "class myknn_regressor():\n",
    "    def __init__(self, n_neighbors = 10, mean_type = \"equal_weight\"):\n",
    "        \"\"\"mean_type can be equal_weight or remove_outliers.\n",
    "                              equal_weight use the same weight for all neighbors.\n",
    "                              remove_outliers remove neighbors out in [Q1 - 1.5 IQR, Q3 + 1.5IQR].\"\"\"\n",
    "        self.n_neighbors = n_neighbors\n",
    "        self.mean_type = mean_type\n",
    "\n",
    "    def fit(self, x_train, y_train):\n",
    "        self.x_train = x_train\n",
    "        self.y_train = y_train\n",
    "        return self\n",
    "\n",
    "    def predict(self, x_test):\n",
    "        \"\"\"use remove_outliers only if k>=10\"\"\"\n",
    "        if self.n_neighbors < 10 or self.mean_type == 'equal_weight':\n",
    "            distances = [np.linalg.norm(xtest - self.x_train, axis = 0) for xtest in x_test]\n",
    "            distance_sort = [np.argsort(dist)[0: self.n_neighbors] for dist in distances]\n",
    "            target = [self.y_train[dist_s] for dist_s in distance_sort]\n",
    "            res = [np.average(i) for i in target]\n",
    "            return res\n",
    "        else:\n",
    "            upper_quartile = np.percentile(self.x_train, 75, axis = 0)\n",
    "            lower_quartile = np.percentile(self.x_train, 25, axis = 0)\n",
    "            IQR = (upper_quartile - lower_quartile) * 1.5\n",
    "            quartileSet = (lower_quartile - IQR, upper_quartile + IQR)\n",
    "            shape = self.x_train.shape\n",
    "            for x in range(shape[1]):\n",
    "                for i in range(shape[0]):\n",
    "                    if (self.x_train[i,x] < quartileSet[0][x]) | (self.x_train[i,x] > quartileSet[1][x]):\n",
    "                        self.x_train[i,x] = np.mean(self.x_train[:, x])\n",
    "            else:\n",
    "                self.x_train[i,x] = self.x_train[i,x]\n",
    "            distances = [np.linalg.norm(xtest - self.x_train, axis = 0) for xtest in x_test]\n",
    "            distance_sort = [np.argsort(dist)[0: self.n_neighbors] for dist in distances]\n",
    "            target = [self.y_train[dist_s] for dist_s in distance_sort]\n",
    "            res = [np.average(i) for i in target]\n",
    "            return res\n",
    "            \n",
    "            \n",
    "\n",
    "# remove_outliners, if K >= 10\n",
    "# equal_weight, if K < 10 or user specify this model \n",
    "# if self.mean_type == 'equal_weight' or self.n_neighbor < 10:"
   ]
  },
  {
   "cell_type": "markdown",
   "metadata": {},
   "source": [
    "### Q1-2. Load data from msd_data1.pickle. You should standardize all feature values to have a zero mean and unit variance before training a KNN model.  Make predictions using $k=20$ and \"equal_weight\" $f$. List the RMSE and the first 20 predictions in the test data. "
   ]
  },
  {
   "cell_type": "code",
   "execution_count": 13,
   "metadata": {},
   "outputs": [],
   "source": [
    "# Load data\n",
    "with open('msd_data1.pickle', 'rb') as fh1:\n",
    "    msd_data = pickle.load(fh1)\n",
    "\n",
    "doscaling = 1\n",
    "\n",
    "if (doscaling == 1):\n",
    "    xscaler = preprocessing.StandardScaler().fit(msd_data['X_train'])\n",
    "    #standardize feature values\n",
    "    X_train = xscaler.transform(msd_data['X_train'])\n",
    "    X_test = xscaler.transform(msd_data['X_test'])\n",
    "else:\n",
    "    X_train = msd_data['X_train']\n",
    "    X_test = msd_data['X_test']\n",
    "\n",
    "Y_train = msd_data['Y_train']\n",
    "Y_test = msd_data['Y_test']"
   ]
  },
  {
   "cell_type": "code",
   "execution_count": 14,
   "metadata": {},
   "outputs": [
    {
     "name": "stdout",
     "output_type": "stream",
     "text": [
      "RMSE: 11.150228734574613\n",
      "first 20 prediction: [2000.95, 1999.95, 2001.85, 2001.55, 1995.8, 1998.0, 2001.9, 1997.8, 1995.2, 2000.35, 1998.2, 2000.9, 2002.0, 2001.1, 1997.95, 2000.9, 1997.65, 2001.45, 1998.35, 2000.15]\n"
     ]
    }
   ],
   "source": [
    "myknn = myknn_regressor(20, \"equal_weight\")\n",
    "myknn.fit(X_train, Y_train)\n",
    "ypred = myknn.predict(X_test)\n",
    "# list the RMSE and the first 20 prediction in the test data\n",
    "print('RMSE:', np.sqrt(np.square(np.subtract(Y_test, ypred)).mean()))\n",
    "print('first 20 prediction:', ypred[0:20])"
   ]
  },
  {
   "cell_type": "markdown",
   "metadata": {},
   "source": [
    "### Q1-3. Load data from msd_data1.pickle. Standardized all feature values so that all features have a zero mean and unit variance.  Make predictions using $k=20$ and \"remove_outier\" $f$. List the RMSE and the first 20 predictions in the testing data. "
   ]
  },
  {
   "cell_type": "code",
   "execution_count": 15,
   "metadata": {},
   "outputs": [
    {
     "name": "stdout",
     "output_type": "stream",
     "text": [
      "RMSE: 11.117870112271206\n",
      "first 20 prediction: [1998.65, 2001.25, 2002.4, 1999.65, 2001.15, 1999.1, 2001.25, 1999.85, 1998.05, 1998.15, 1998.45, 2000.9, 2000.3, 2000.85, 1999.5, 2001.6, 1996.55, 2002.35, 1999.1, 1997.4]\n"
     ]
    }
   ],
   "source": [
    "myknn = myknn_regressor(20, \"remove_outlier\")\n",
    "myknn.fit(X_train, Y_train)\n",
    "ypred = myknn.predict(X_test)\n",
    "print('RMSE:', np.sqrt(np.square(np.subtract(Y_test, ypred)).mean()))\n",
    "print('first 20 prediction:', ypred[0:20])"
   ]
  },
  {
   "cell_type": "markdown",
   "metadata": {},
   "source": [
    "## Question 2\n",
    "(20%) Hyper-parameter tuning is an important skill required in many model training tasks. We are going to consider three settings in this question. Use the KNN regressor from sklearn.neighbors.KNeighborsRegressor for the first two settings, and your myknn_regressor for the third setting. \n",
    "\n",
    "For each setting, use the data from msd_data1.pickle to train and test the KNN models. Compute the RMSE on the testing dataset using $k=1, 2, 3, 4, 5, 10, 15, 20, 25, 30, 35, 40, 45, 50, 55, 60, 80, 100, 120, 140, 160, 180, 200$. In the first case, all feature values are standardized to have unit variances and zero means. As for the second case, do not apply feature scaling. The third case uses standardized features and adopted myknn_regressor with \"remove_outlier\" $f$ to make predictions. \n",
    "\n",
    "For each setting, plot a curve that shows the relations between $k$ (x-axis) and RMSE (y-axis). If possible, plot the three curves in the same figure to visually inspect their dynamics. Discuss your observations. "
   ]
  },
  {
   "cell_type": "markdown",
   "metadata": {},
   "source": [
    "### Q2-1. first case : standardized to unit"
   ]
  },
  {
   "cell_type": "code",
   "execution_count": 16,
   "metadata": {},
   "outputs": [
    {
     "data": {
      "image/png": "[encoded data removed]",
      "text/plain": [
       "<Figure size 432x288 with 1 Axes>"
      ]
     },
     "metadata": {
      "needs_background": "light"
     },
     "output_type": "display_data"
    }
   ],
   "source": [
    "from sklearn.neighbors import KNeighborsRegressor\n",
    "grid_parameter = [1, 2, 3, 4, 5, 10, 15, 20, 25, 30, 35, 40, 45, 50, 55, 60, 80, 100, 120, 140, 160, 180, 200]\n",
    "empty1 = np.zeros([2, len(grid_parameter)])\n",
    "p = 0\n",
    "for neighbor in grid_parameter:\n",
    "    md = KNeighborsRegressor(n_neighbors = neighbor, p = 2, algorithm = 'brute')\n",
    "    md.fit(X_train,Y_train)\n",
    "    ypred = md.predict(X_test)\n",
    "    rmse = np.sqrt(np.square(np.subtract(Y_test, ypred)).mean())\n",
    "    empty1[0, p] = neighbor\n",
    "    empty1[1, p] = rmse\n",
    "    p += 1\n",
    "\n",
    "from matplotlib import pyplot as plt \n",
    "plt.xlabel('neighbor') \n",
    "plt.ylabel('RMSE') \n",
    "plt.plot(empty1[0, :],empty1[1, :]) \n",
    "plt.show()"
   ]
  },
  {
   "cell_type": "markdown",
   "metadata": {},
   "source": [
    "### Q2-2. second case : do not standadized"
   ]
  },
  {
   "cell_type": "code",
   "execution_count": 17,
   "metadata": {},
   "outputs": [
    {
     "data": {
      "image/png": "[encoded data removed]",
      "text/plain": [
       "<Figure size 432x288 with 1 Axes>"
      ]
     },
     "metadata": {
      "needs_background": "light"
     },
     "output_type": "display_data"
    }
   ],
   "source": [
    "X_train_ord = msd_data['X_train']\n",
    "Y_train_ord = msd_data['Y_train']\n",
    "X_test_ord = msd_data['X_test']\n",
    "Y_test_ord = msd_data['Y_test']\n",
    "empty2 = np.zeros([2, len(grid_parameter)])\n",
    "p = 0\n",
    "for neighbor in grid_parameter:\n",
    "    md = KNeighborsRegressor(n_neighbors = neighbor, p = 2, algorithm = 'brute')\n",
    "    md.fit(X_train_ord,Y_train_ord)\n",
    "    ypred = md.predict(X_test_ord)\n",
    "    rmse = np.sqrt(np.square(np.subtract(Y_test_ord, ypred)).mean())\n",
    "    empty2[0, p] = neighbor\n",
    "    empty2[1, p] = rmse\n",
    "    p += 1\n",
    "\n",
    "\n",
    "plt.xlabel('neighbor') \n",
    "plt.ylabel('RMSE') \n",
    "plt.plot(empty2[0, :],empty2[1, :]) \n",
    "plt.show()"
   ]
  },
  {
   "cell_type": "markdown",
   "metadata": {},
   "source": [
    "### Q2-3. third case : standardized and remove_outlier"
   ]
  },
  {
   "cell_type": "code",
   "execution_count": 19,
   "metadata": {},
   "outputs": [],
   "source": [
    "empty3 = np.zeros([2, len(grid_parameter)])\n",
    "p = 0\n",
    "for neighbor in grid_parameter:\n",
    "    myknn = myknn_regressor(neighbor, \"remove_outlier\")\n",
    "    myknn.fit(X_train, Y_train)\n",
    "    ypred = myknn.predict(X_test)\n",
    "    rmse = np.sqrt(np.square(np.subtract(Y_test, ypred)).mean())\n",
    "    empty3[0, p] = neighbor\n",
    "    empty3[1, p] = rmse\n",
    "    p += 1"
   ]
  },
  {
   "cell_type": "code",
   "execution_count": 20,
   "metadata": {},
   "outputs": [
    {
     "data": {
      "image/png": "[encoded data removed]",
      "text/plain": [
       "<Figure size 432x288 with 1 Axes>"
      ]
     },
     "metadata": {
      "needs_background": "light"
     },
     "output_type": "display_data"
    }
   ],
   "source": [
    "plt.xlabel('neighbor') \n",
    "plt.ylabel('RMSE') \n",
    "plt.plot(empty3[0, :],empty3[1, :]) \n",
    "plt.show()"
   ]
  },
  {
   "cell_type": "markdown",
   "metadata": {},
   "source": [
    "## Question 3\n",
    "### Q3-1. 基於本題給的L，推導新的Coordinate Descent with Soft Thresholding公式\n"
   ]
  },
  {
   "cell_type": "markdown",
   "metadata": {},
   "source": [
    "$$\\frac{\\partial L^{'}}{\\partial w_j} = \\frac{1}{n}\\sum^{n}_{i=1}(y_i - w^T x_i - w_0)(-x_j)+\\lambda sgn(w_j)$$\n",
    "where\n",
    "$$w^T x_i = w^T_1 x_1 + w^T_2 x_2 + \\ldots + w^T_j x_j + \\ldots + w^T_n x_n \\\\ \n",
    "= w^T_{j}x_{-j} + w_j x_j$$\n",
    "\n",
    "using the new notation,\n",
    "$$\\frac{\\partial L^{'}}{\\partial w_j} = \\frac{1}{n}\\sum^{n}_{i=1}(y_i - w^T x_i - w_0)(-x_j)+\\lambda sgn(w_j) \\\\\n",
    "=\\frac{1}{n}\\sum^{n}_{i=1}(y_i - w^T_{j}x_{-j} - w_j x_j)(-x_j) + \\lambda sgn(w_j)\\\\\n",
    "= \\frac{1}{n}\\sum^{n}_{i=1}(y_i - w^T_{j}x_{-j} )(-x_j) +\\frac{1}{n}\\sum^{n}_{i=1} w_j x_j^2 +\\lambda sgn(w_j)$$\n",
    "where \n",
    "$$sgn(w_j) = 1,\\, if \\, w_j >0, \\\\\n",
    "sgn(w_j) = -1, \\, if \\, w_j <0, \\\\\n",
    "sgn(w_j) = 0, \\, if \\, w_j = 0$$ \n",
    "<br>\n",
    "\n",
    "$$w_j = \\frac{\\sum^{n}_{i=1}(y_i - w^T_{j}x_{-j} )(-x_j) - \\lambda sgn(w_j)}{x^2_j}$$\n",
    "Given $\\tilde{w}$ , update $w_j$ by\n",
    "$$w_j = \\frac{\\sum^{n}_{i=1}(y_i - \\tilde{w}^{T}_{j}x_{-j} )(-x_j) - \\lambda sgn(w_j)}{x^2_j}$$\n",
    "\n",
    "The $w_j$ will be positive if \n",
    "$$ \\frac{\\sum^{n}_{i=1}(y_i - \\tilde{w}^{T}_{j}x_{-j} )(-x_j) - \\lambda}{x^2_j} > 0, \\\\\n",
    "w_j = \\frac{\\sum^{n}_{i=1}(y_i - \\tilde{w}^{T}_{j}x_{-j} )(-x_j) - \\lambda}{x^2_j}$$\n",
    "alternatively, $w_j$ will be negative if\n",
    "$$\\frac{\\sum^{n}_{i=1}(y_i - \\tilde{w}^{T}_{j}x_{-j} )(-x_j) + \\lambda}{x^2_j} > 0, \\\\\n",
    "w_j = \\frac{\\sum^{n}_{i=1}(y_i - \\tilde{w}^{T}_{j}x_{-j} )(-x_j) + \\lambda}{x^2_j}$$\n",
    "\n",
    "set $w_j^* =\\frac{\\sum^{n}_{i=1}(y_i - \\tilde{w}^{T}_{j}x_{-j} )(-x_j)}{x^2_j}$, then\n",
    "$$w_j = \\begin{cases}\n",
    "    w^*_j - \\frac{\\lambda_j}{x^2_j}, if \\,  w^*_j - \\frac{\\lambda}{x^2_j} >0, \\\\\n",
    "    w^*_j + \\frac{\\lambda_j}{x^2_j}, if \\,  w^*_j + \\frac{\\lambda}{x^2_j} <0, \\\\\n",
    "    0, otherwise\n",
    "\\end{cases}\n",
    "$$"
   ]
  },
  {
   "cell_type": "markdown",
   "metadata": {},
   "source": [
    "### Q3-2. 使用給定個骨架建構你的mylasso。"
   ]
  },
  {
   "cell_type": "code",
   "execution_count": null,
   "metadata": {},
   "outputs": [],
   "source": [
    "import numpy as np\n",
    "\n",
    "class mylasso():\n",
    "    def __init__(self, lamcoef = 0.1, max_iter = 1000, tol = 1e-6, const_regu = False):\n",
    "        \"\"\"lamcoef: the regularization coefficient\n",
    "           max_iter: maximum number of iteration for model training\n",
    "           tol: tolerance for the stopping criteria for model training\n",
    "           const_regu: whether the constant term should be regularized, default to False\n",
    "           \"\"\"\n",
    "        self.lamcoef = lamcoef\n",
    "        self.max_iter = max_iter\n",
    "        self.tol = tol\n",
    "        self.const_regu = const_regu\n",
    "        \n",
    "    def fit(self, x_train, y_train, winit = \"ridge\", keep_traindata = True, verbose = False):\n",
    "        \"\"\"Fit a Lasso model\n",
    "           x_train: a numpy matrix that contains training features\n",
    "           y_train: a numpy matrix that contains the label\n",
    "           winit: how weights are initialized, default to \"ridge\", ridge regression\n",
    "           keep_traindata: whether the object is going to keep training data after the training process completed\n",
    "           verbose: output a lot of message\"\"\"\n",
    "        self.x_train = x_train\n",
    "        self.y_train = y_train\n",
    "        return self\n",
    "\n",
    "    def predict(self, x_test):\n",
    "        \"\"\"Make prediction using trained model\"\"\"\n",
    "\n",
    "        ### Add your code here ###"
   ]
  },
  {
   "cell_type": "markdown",
   "metadata": {},
   "source": [
    "### Q3-4. 使用上一小題的模型計算測試資料的預測值。列出前五筆資料的預測年分、Test RMSE、Test MAE。\n"
   ]
  },
  {
   "cell_type": "code",
   "execution_count": null,
   "metadata": {},
   "outputs": [],
   "source": [
    "import pickle\n",
    "from sklearn import preprocessing\n",
    "import numpy as np\n",
    "np.set_printoptions(suppress=True)\n",
    "\n",
    "#Load data\n",
    "with open('msd_data1.pickle', 'rb') as fh1:\n",
    "    msd_data = pickle.load(fh1)\n",
    "\n",
    "xscaler = preprocessing.StandardScaler().fit(msd_data['X_train'])\n",
    "#standardize feature values\n",
    "X_train_sd = xscaler.transform(msd_data['X_train'])\n",
    "X_test_sd = xscaler.transform(msd_data['X_test'])\n",
    "\n",
    "#outcome values\n",
    "Y_train = msd_data['Y_train']\n",
    "Y_test = msd_data['Y_test']"
   ]
  },
  {
   "cell_type": "code",
   "execution_count": null,
   "metadata": {},
   "outputs": [],
   "source": [
    "mlo = mylasso(lamcoef = 0.1)\n",
    "mlo.fit(x_train, y_train)\n",
    "ypred = mlo.predict(x_test)"
   ]
  },
  {
   "cell_type": "markdown",
   "metadata": {},
   "source": [
    "### Q3-5. 使用下面的$\\lambda$訓練模型: 0.0001, 0.0005, 0.001, 0.005, 0.01, 0.05, 0.1, 0.5, 1, 2。記錄每一個$\\lambda$的Training Loss、Number of Nonzero Weights、Average Weight Size (Mean of Absolute Weight)、Training RMSE、Test RMSE。將所有的結果列表、畫折線圖、並寫下你對結果的觀察。\n"
   ]
  },
  {
   "cell_type": "code",
   "execution_count": null,
   "metadata": {},
   "outputs": [],
   "source": [
    "lambda_parameter = [0.0001, 0.0005, 0.001, 0.005, 0.01, 0.05, 0.1, 0.5, 1, 2]"
   ]
  }
 ],
 "metadata": {
  "interpreter": {
   "hash": "8da01e5a71448ea74f54d88afa8911010d1d12e23bc7e103d40d5def4a09152c"
  },
  "kernelspec": {
   "display_name": "Python 3.9.1 64-bit",
   "name": "python3"
  },
  "language_info": {
   "codemirror_mode": {
    "name": "ipython",
    "version": 3
   },
   "file_extension": ".py",
   "mimetype": "text/x-python",
   "name": "python",
   "nbconvert_exporter": "python",
   "pygments_lexer": "ipython3",
   "version": "3.9.1"
  },
  "orig_nbformat": 4
 },
 "nbformat": 4,
 "nbformat_minor": 2
}
